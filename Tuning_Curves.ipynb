{
 "cells": [
  {
   "cell_type": "code",
   "execution_count": 1,
   "metadata": {},
   "outputs": [],
   "source": [
    "import mat73\n",
    "\n",
    "import numpy as np\n",
    "import pandas as pd\n",
    "import matplotlib as mpl\n",
    "import matplotlib.pyplot as plt\n",
    "import snntorch.spikeplot as splt"
   ]
  },
  {
   "cell_type": "markdown",
   "metadata": {},
   "source": [
    "### Load data"
   ]
  },
  {
   "cell_type": "code",
   "execution_count": 2,
   "metadata": {},
   "outputs": [],
   "source": [
    "# Which session is loaded in \n",
    "ses_nr = 3"
   ]
  },
  {
   "cell_type": "code",
   "execution_count": 3,
   "metadata": {},
   "outputs": [],
   "source": [
    "session_labels = mat73.loadmat(f'dataset_conditions\\session_{ses_nr}_condition.mat')\n",
    "session_dict = mat73.loadmat(f'session_{ses_nr}.mat')"
   ]
  },
  {
   "cell_type": "code",
   "execution_count": 4,
   "metadata": {},
   "outputs": [
    {
     "name": "stdout",
     "output_type": "stream",
     "text": [
      "(2160, 1100, 442) (2160,)\n"
     ]
    }
   ],
   "source": [
    "data = session_dict['data']\n",
    "spiketrain = data['spiketrain']\n",
    "neuron_used = data['Cluster_Included']\n",
    "\n",
    "labels = session_labels['trial_condition_ID']\n",
    "\n",
    "\n",
    "#shorten length spiketrain / slice specific part\n",
    "#spiketrain = spiketrain[:, 100:, :]\n",
    "\n",
    "print(spiketrain.shape, labels.shape)"
   ]
  },
  {
   "cell_type": "code",
   "execution_count": 34,
   "metadata": {},
   "outputs": [
    {
     "data": {
      "text/plain": [
       "(2160, 1100, 115)"
      ]
     },
     "execution_count": 34,
     "metadata": {},
     "output_type": "execute_result"
    }
   ],
   "source": [
    "# use when selecting 'active' neurons only\n",
    "active_dict = []\n",
    "inactive_dict = []\n",
    "\n",
    "for i in range(len(spiketrain[1][1])):\n",
    "    if neuron_used[i] == True:\n",
    "        active_dict.append(spiketrain[:, :, i])\n",
    "    elif neuron_used[i] == False:\n",
    "        inactive_dict.append(spiketrain[i])\n",
    "\n",
    "active_dict = np.array(active_dict)\n",
    "active_dict = np.transpose(active_dict, (1, 2, 0))\n",
    "\n",
    "#active_dict = torch.tensor(active_dict, dtype = torch.int)\n",
    "active_dict.shape"
   ]
  },
  {
   "cell_type": "markdown",
   "metadata": {},
   "source": [
    "##### Decode labels"
   ]
  },
  {
   "cell_type": "code",
   "execution_count": 5,
   "metadata": {},
   "outputs": [],
   "source": [
    "## Get orientation (0 -> 350)\n",
    "\n",
    "orientation = [(int(i) % 36 - 1) if int(i) % 36 != 0 else 35 for i in labels]\n",
    "\n",
    "#orientation = torch.tensor(orientation, dtype = torch.int)"
   ]
  },
  {
   "cell_type": "code",
   "execution_count": 6,
   "metadata": {},
   "outputs": [],
   "source": [
    "### Get spatial frequency (0.5, 1, 2, 4)\n",
    "sf = []\n",
    "\n",
    "for i in labels:\n",
    "    if i <= 144:\n",
    "        if i/36 <= 1:\n",
    "            sf.append(0.5)\n",
    "\n",
    "        elif i/36 <= 2:\n",
    "            sf.append(1)\n",
    "\n",
    "        elif i/36 <= 3:\n",
    "            sf.append(2)\n",
    "\n",
    "        elif i/36 <= 4:\n",
    "            sf.append(4)\n",
    "\n",
    "\n",
    "    elif 145 <= i <= 288:\n",
    "        if i/36 <= 5:\n",
    "            sf.append(0.5)\n",
    "\n",
    "        elif i/36 <= 6:\n",
    "            sf.append(1)\n",
    "\n",
    "        elif i/36 <= 7:\n",
    "            sf.append(2)\n",
    "\n",
    "        elif i/36 <= 8:\n",
    "            sf.append(4)\n",
    "\n",
    "\n",
    "    elif 289 <= i <= 432:\n",
    "        if i/36 <= 9:\n",
    "            sf.append(0.5)\n",
    "\n",
    "        elif i/36 <= 10:\n",
    "            \n",
    "            sf.append(1)\n",
    "\n",
    "        elif i/36 <= 11:\n",
    "            sf.append(2)\n",
    "\n",
    "        elif i/36 <= 12:\n",
    "            sf.append(4)\n",
    "\n",
    "#sf = torch.tensor(sf, dtype = torch.float64)"
   ]
  },
  {
   "cell_type": "code",
   "execution_count": 7,
   "metadata": {},
   "outputs": [],
   "source": [
    "zipped = list(zip(spiketrain, orientation))\n",
    "#zipped_sf = list(zip(spiketrain, sf))\n",
    "#zipped_active = list(zip(active_dict, orientation))\n",
    "spike_neuron = np.transpose(spiketrain)"
   ]
  },
  {
   "cell_type": "markdown",
   "metadata": {},
   "source": [
    "### Sorting Functions"
   ]
  },
  {
   "cell_type": "code",
   "execution_count": 8,
   "metadata": {},
   "outputs": [],
   "source": [
    "def Sort_Degrees(neuron_nr):\n",
    "    # Initialize grad_dict with lists\n",
    "    numbers = list(range(0, 360, 10)) \n",
    "    for nr in numbers:\n",
    "        grad_dict[f'grad_{nr}'] = []  # Initialize an empty list for each counter value\n",
    "\n",
    "    # Process the zipped list\n",
    "    for i in zipped:\n",
    "        counter = 0\n",
    "        for nr in numbers:\n",
    "            if i[1] == counter:\n",
    "                grad_dict[f'grad_{counter*10}'].append(i[0][:, neuron_nr-1])\n",
    "                break  # Exit the loop once the correct grad list is found\n",
    "            counter += 1\n",
    "\n",
    "    # Print the results\n",
    "    #for nr in numbers:\n",
    "    #    print(f'grad_{nr}:', grad_dict[f'grad_{nr}'])"
   ]
  },
  {
   "cell_type": "code",
   "execution_count": 9,
   "metadata": {},
   "outputs": [],
   "source": [
    "def Sort_SF(neuron_nr):\n",
    "    numbers = [0.5, 1, 2, 4] \n",
    "    for nr in numbers:\n",
    "        sf_dict[f'sf_{nr}'] = []  # Initialize an empty list for each counter value\n",
    "\n",
    "    # Process the zipped list\n",
    "    for i in zipped_sf:\n",
    "        counter = 0\n",
    "        for nr in numbers:\n",
    "            if i[1] == numbers[counter]:\n",
    "                sf_dict[f'sf_{nr}'].append(i[0][:, neuron_nr-1])\n",
    "                break  # Exit the loop once the correct grad list is found\n",
    "            counter += 1"
   ]
  },
  {
   "cell_type": "code",
   "execution_count": 10,
   "metadata": {},
   "outputs": [],
   "source": [
    "# Get spike count of trial -> average spike count over all trials \n",
    "# divide spike avg by nr trials * time window duration\n",
    "\n",
    "# to convert to Hz, multiply by 1000\n",
    "\n",
    "def Tuning_Curve(neuron):\n",
    "    avg_rates = []\n",
    "    trial_avg_rates = []\n",
    "\n",
    "    numbers = list(range(0, 360, 10))\n",
    "    for nr in numbers:\n",
    "        orientation = grad_dict[f'grad_{nr}']\n",
    "        rates = []\n",
    "        for session in orientation:\n",
    "            rates.append(sum(session))\n",
    "        avg_rates.append(sum(rates))\n",
    "\n",
    "    for rate in avg_rates:\n",
    "        avg = rate/(40*1000) # should change depending on nr of trials per orientation\n",
    "        trial_avg_rates.append(avg)\n",
    "\n",
    "    # plotting\n",
    "    plt.figure().set_figwidth(15)\n",
    "    plt.title(f\"Tuning curve neuron {neuron}\") \n",
    "    plt.xlabel('orientation (deg)') \n",
    "    plt.xticks(numbers)\n",
    "    plt.ylabel(\"Avg firing rates\") \n",
    "    plt.plot(numbers, trial_avg_rates, color =\"red\") \n",
    "    plt.savefig(f\"Tuning Curve Neuron {neuron}.jpg\")\n",
    "    plt.close()"
   ]
  },
  {
   "cell_type": "code",
   "execution_count": 11,
   "metadata": {},
   "outputs": [],
   "source": [
    "def Tuning_Curve_SF(neuron):\n",
    "    avg_rates = []\n",
    "    trial_avg_rates = []\n",
    "\n",
    "    numbers = [0.5, 1, 2, 4] \n",
    "    for nr in numbers:\n",
    "        frequency = sf_dict[f'sf_{nr}']\n",
    "        rates = []\n",
    "        for session in frequency:\n",
    "            rates.append(sum(session))\n",
    "        avg_rates.append(sum(rates))\n",
    "\n",
    "    for rate in avg_rates:\n",
    "        avg = rate/(40*1100) # should change depending on nr of trials per orientation\n",
    "        trial_avg_rates.append(avg)\n",
    "\n",
    "    # plotting\n",
    "    #plt.figure().set_figwidth(15)\n",
    "    plt.title(f\"Tuning curve SF neuron {neuron}\") \n",
    "    plt.xlabel('Spatial Frequency') \n",
    "    plt.xticks(numbers)\n",
    "    plt.ylabel(\"Avg firing rates\") \n",
    "    plt.plot(numbers, trial_avg_rates, color =\"red\") \n",
    "    plt.savefig(f\"Tuning Curve SF Neuron {neuron}.jpg\")\n",
    "    plt.close()"
   ]
  },
  {
   "cell_type": "code",
   "execution_count": 12,
   "metadata": {},
   "outputs": [],
   "source": [
    "def Sort_Activity(data):\n",
    "    neuron_nr = 1\n",
    "    active_dict['active'] = []\n",
    "    active_dict['inactive'] = []\n",
    "\n",
    "    for item in data:\n",
    "        if item == True:\n",
    "            active_dict['active'].append(neuron_nr)\n",
    "        elif item == False:\n",
    "            active_dict['inactive'].append(neuron_nr)\n",
    "        neuron_nr += 1"
   ]
  },
  {
   "cell_type": "code",
   "execution_count": 11,
   "metadata": {},
   "outputs": [],
   "source": [
    "def Tuning_Index(neuron):\n",
    "    avg_rates = []\n",
    "    trial_avg_rates = []\n",
    "    \n",
    "    numbers = list(range(0, 360, 10))\n",
    "    for nr in numbers:\n",
    "        orientation = grad_dict[f'grad_{nr}']\n",
    "        rates = []\n",
    "        for session in orientation:\n",
    "            rates.append(sum(session))\n",
    "        avg_rates.append(sum(rates))\n",
    "\n",
    "    for rate in avg_rates:\n",
    "        avg = rate/(60*1000)   # should change depending on nr of trials per orientation\n",
    "        trial_avg_rates.append(avg)\n",
    "\n",
    "    A = np.array(trial_avg_rates)\n",
    "    maximum_indices = np.where(A==max(trial_avg_rates))\n",
    "\n",
    "    if len(maximum_indices[0]) == 1:\n",
    "        preferred_deg = int(maximum_indices[0])\n",
    "        non_preferred_deg = (preferred_deg + 9) % 36\n",
    "    else:\n",
    "        multiples.append(neuron)\n",
    "        preferred_deg = int(maximum_indices[0][0])\n",
    "        non_preferred_deg = (preferred_deg + 9) % 36\n",
    "\n",
    "    preferred = trial_avg_rates[preferred_deg]\n",
    "    non_preferred = trial_avg_rates[non_preferred_deg]\n",
    "\n",
    "    index = (preferred - non_preferred)/(preferred + non_preferred)\n",
    "    tuning_index.append([neuron, index])"
   ]
  },
  {
   "cell_type": "code",
   "execution_count": 26,
   "metadata": {},
   "outputs": [],
   "source": [
    "def Tuning_Index_SF(neuron):\n",
    "    avg_rates = []\n",
    "    trial_avg_rates = []\n",
    "    \n",
    "\n",
    "    numbers = [0.5, 1, 2, 4] \n",
    "    for nr in numbers:\n",
    "        frequency = sf_dict[f'sf_{nr}']\n",
    "        rates = []\n",
    "        for session in frequency:\n",
    "            rates.append(sum(session)) #contains sum of all spikes of one trial \n",
    "        avg_rates.append(sum(rates)) #contains the sum of \n",
    "\n",
    "    for rate in avg_rates:\n",
    "        avg = rate/(60*1000)   # should change depending on nr of trials per orientation\n",
    "        trial_avg_rates.append(avg)\n",
    "\n",
    "    A = np.array(trial_avg_rates)\n",
    "    maximum_indices = np.where(A==max(trial_avg_rates))\n",
    "    minimum_indices = np.where(A==min(trial_avg_rates))\n",
    "\n",
    "    if len(maximum_indices[0]) == 1:\n",
    "        preferred_SF = int(maximum_indices[0])\n",
    "        non_preferred_SF = int(minimum_indices[0][0])  #take the min() as non-prefferred?\n",
    "    else:\n",
    "        multiples.append(neuron)\n",
    "        preferred_SF = int(maximum_indices[0][0])\n",
    "        non_preferred_SF = int(minimum_indices[0][0])\n",
    "\n",
    "    preferred = trial_avg_rates[preferred_SF]\n",
    "    non_preferred = trial_avg_rates[non_preferred_SF]\n",
    "\n",
    "    index = (preferred - non_preferred)/(preferred + non_preferred)\n",
    "    tuning_index_SF.append([neuron, index])"
   ]
  },
  {
   "cell_type": "markdown",
   "metadata": {},
   "source": [
    "### Apply the desired type of analysis (orientation/SF/selected neuron)"
   ]
  },
  {
   "cell_type": "code",
   "execution_count": 22,
   "metadata": {},
   "outputs": [
    {
     "name": "stderr",
     "output_type": "stream",
     "text": [
      "C:\\Users\\marin\\AppData\\Local\\Temp\\ipykernel_9888\\2209280981.py:31: RuntimeWarning: invalid value encountered in double_scalars\n",
      "  index = (preferred - non_preferred)/(preferred + non_preferred)\n"
     ]
    },
    {
     "name": "stdout",
     "output_type": "stream",
     "text": [
      "[11, 12, 25, 33, 36, 39, 62, 94, 98, 115, 125, 126, 135, 152, 157, 159, 163, 165, 166, 167, 186, 195, 206, 219, 223, 226, 227, 229, 247, 252, 254, 266, 270, 272, 284, 292, 295, 300, 302, 309, 311, 312, 317, 319, 324, 326, 342, 351, 354, 357, 358, 363, 364, 365, 370, 373, 374, 379, 381, 387, 388, 390, 391, 396]\n"
     ]
    }
   ],
   "source": [
    "grad_dict = {}\n",
    "multiples = []\n",
    "tuning_index = []\n",
    "\n",
    "for neuron in range(1, 400):\n",
    "    Sort_Degrees(neuron)\n",
    "    Tuning_Index(neuron)\n",
    "\n",
    "\n",
    "print(multiples)"
   ]
  },
  {
   "cell_type": "code",
   "execution_count": 24,
   "metadata": {},
   "outputs": [
    {
     "name": "stdout",
     "output_type": "stream",
     "text": [
      "399\n",
      "64\n",
      "44.3609022556391\n"
     ]
    }
   ],
   "source": [
    "print(len(tuning_index))\n",
    "print(len(multiples))\n",
    "\n",
    "### Assess the amount of neurons with a tuning index above a certain threshold\n",
    "b = [index[1] for index in tuning_index]\n",
    "# amount above 0.5 tune\n",
    "nr = 0\n",
    "for i in range(len(b)):\n",
    "    if b[i]>0.8:\n",
    "        nr +=1\n",
    "\n",
    "print(nr/len(b)*100)"
   ]
  },
  {
   "cell_type": "markdown",
   "metadata": {},
   "source": [
    "Session 2 - orientation\n",
    "- above 0.3 tuning : 70.8830548926014\n",
    "- above 0.5 tuning : 48.92601431980907\n",
    "- above 0.8 tuning : 22.195704057279237\n",
    "\n",
    "\n",
    "On selected neurons:\n",
    "- above 0.3 tuning : 63.366336633663366\n",
    "- above 0.5 tuning : 42.57425742574257\n",
    "- above 0.8 tuning : 14.85148514851485"
   ]
  },
  {
   "cell_type": "markdown",
   "metadata": {},
   "source": [
    "Session 3 - orientation\n",
    "- above 0.3 tuning : 91.17647058823529\n",
    "- above 0.5 tuning : 73.52941176470588\n",
    "- above 0.8 tuning : 44.34389140271493\n",
    "\n",
    "On selected neurons:\n",
    "- above 0.3 tuning : 91.4027149321267\n",
    "- above 0.5 tuning : 71.04072398190046\n",
    "- above 0.8 tuning : 34.38914027149321"
   ]
  },
  {
   "cell_type": "markdown",
   "metadata": {},
   "source": [
    "Session 5 - orientation\n",
    "- above 0.3 tuning : 61.49341142020498\n",
    "- above 0.5 tuning : 31.625183016105417\n",
    "- above 0.8 tuning : 12.591508052708638\n",
    "\n",
    "On selected neurons:\n",
    "- above 0.3 tuning : 58.26086956521739\n",
    "- above 0.5 tuning : 26.956521739130434\n",
    "- above 0.8 tuning : 5.217391304347826"
   ]
  },
  {
   "cell_type": "code",
   "execution_count": 27,
   "metadata": {},
   "outputs": [
    {
     "name": "stderr",
     "output_type": "stream",
     "text": [
      "C:\\Users\\marin\\AppData\\Local\\Temp\\ipykernel_5744\\1645822510.py:33: RuntimeWarning: invalid value encountered in double_scalars\n",
      "  index = (preferred - non_preferred)/(preferred + non_preferred)\n"
     ]
    },
    {
     "name": "stdout",
     "output_type": "stream",
     "text": [
      "[7, 8, 12, 14, 23, 56, 108, 131, 157, 166, 185, 187, 224, 234, 241, 253, 289, 346, 388]\n"
     ]
    }
   ],
   "source": [
    "sf_dict = {}\n",
    "multiples = []\n",
    "tuning_index_SF = []\n",
    "\n",
    "for neuron in range(1, 420):\n",
    "    Sort_SF(neuron)\n",
    "    Tuning_Index_SF(neuron)\n",
    "\n",
    "\n",
    "print(multiples)"
   ]
  },
  {
   "cell_type": "code",
   "execution_count": 32,
   "metadata": {},
   "outputs": [
    {
     "name": "stdout",
     "output_type": "stream",
     "text": [
      "81.86157517899761\n"
     ]
    }
   ],
   "source": [
    "c = [index[1] for index in tuning_index_SF]\n",
    "# amount above 0.5 tune\n",
    "nr = 0\n",
    "for i in range(len(c)):\n",
    "    if c[i]>0.3:\n",
    "        nr +=1\n",
    "\n",
    "print(nr/len(c)*100)"
   ]
  },
  {
   "cell_type": "markdown",
   "metadata": {},
   "source": [
    "Session 2 - SF\n",
    "- above 0.3 tuning: 81.86157517899761\n",
    "- above 0.5 tuning: 62.29116945107399\n",
    "- above 0.8 tuning: 34.12887828162291"
   ]
  },
  {
   "cell_type": "markdown",
   "metadata": {},
   "source": [
    "## Tuning Curve loop\n",
    "\n",
    "Here the tuning curves are created for specified neurons"
   ]
  },
  {
   "cell_type": "code",
   "execution_count": 44,
   "metadata": {},
   "outputs": [
    {
     "name": "stdout",
     "output_type": "stream",
     "text": [
      "[2, 3, 5, 11, 13, 19, 25, 26, 30, 31, 32, 33, 37, 38, 40, 41, 46, 47, 49, 53, 60, 62, 63, 68, 70, 71, 74, 75, 76, 81, 82, 84, 87, 92, 93, 96, 97, 98, 101, 103, 106, 109, 114, 116, 119, 120, 121, 124, 125, 126, 127, 132, 133, 137, 138, 139, 141, 143, 144, 145, 146, 147, 149, 152, 154, 158, 160, 162, 165, 169, 171, 172, 174, 176, 180, 181, 186, 188, 189, 190, 195, 198, 200, 201, 202, 203, 204, 206, 207, 208, 210, 211, 212, 213, 214, 216, 217, 218, 220, 221, 222, 223, 227, 229, 230, 232, 235, 236, 237, 238, 239, 240, 242, 245, 247, 249, 250, 251, 252, 254, 256, 257, 261, 262, 264, 266, 267, 271, 273, 274, 275, 276, 279, 280, 281, 283, 284, 290, 291, 292, 293, 296, 297, 299, 300, 302, 303, 304, 306, 307, 309, 311, 312, 313, 314, 315, 318, 319, 320, 322, 324, 325, 328, 329, 331, 332, 334, 335, 341, 342, 344, 351, 352, 353, 354, 356, 359, 360, 364, 365, 372, 377, 378, 381, 383, 384, 386, 389, 390, 392, 393, 394, 396, 399, 400, 401, 404, 406, 410, 412, 414, 415]\n",
      "[1, 4, 6, 7, 8, 9, 10, 12, 14, 15, 16, 17, 18, 20, 21, 22, 23, 24, 27, 28, 29, 34, 35, 36, 39, 42, 43, 44, 45, 48, 50, 51, 52, 54, 55, 56, 57, 58, 59, 61, 64, 65, 66, 67, 69, 72, 73, 77, 78, 79, 80, 83, 85, 86, 88, 89, 90, 91, 94, 95, 99, 100, 102, 104, 105, 107, 108, 110, 111, 112, 113, 115, 117, 118, 122, 123, 128, 129, 130, 131, 134, 135, 136, 140, 142, 148, 150, 151, 153, 155, 156, 157, 159, 161, 163, 164, 166, 167, 168, 170, 173, 175, 177, 178, 179, 182, 183, 184, 185, 187, 191, 192, 193, 194, 196, 197, 199, 205, 209, 215, 219, 224, 225, 226, 228, 231, 233, 234, 241, 243, 244, 246, 248, 253, 255, 258, 259, 260, 263, 265, 268, 269, 270, 272, 277, 278, 282, 285, 286, 287, 288, 289, 294, 295, 298, 301, 305, 308, 310, 316, 317, 321, 323, 326, 327, 330, 333, 336, 337, 338, 339, 340, 343, 345, 346, 347, 348, 349, 350, 355, 357, 358, 361, 362, 363, 366, 367, 368, 369, 370, 371, 373, 374, 375, 376, 379, 380, 382, 385, 387, 388, 391, 395, 397, 398, 402, 403, 405, 407, 408, 409, 411, 413, 416, 417, 418, 419]\n"
     ]
    }
   ],
   "source": [
    "active_dict = {}\n",
    "Sort_Activity(neuron_used)\n",
    "\n",
    "print(active_dict['active'])\n",
    "print(active_dict['inactive'])"
   ]
  },
  {
   "cell_type": "code",
   "execution_count": 28,
   "metadata": {},
   "outputs": [],
   "source": [
    "#set which neuron investigated\n",
    "grad_dict = {}\n",
    "\n",
    "for neuron in range(0, 1):\n",
    "    Sort_Degrees(neuron)\n",
    "    Tuning_Curve(neuron)\n"
   ]
  },
  {
   "cell_type": "code",
   "execution_count": 60,
   "metadata": {},
   "outputs": [
    {
     "data": {
      "text/plain": [
       "1000"
      ]
     },
     "execution_count": 60,
     "metadata": {},
     "output_type": "execute_result"
    }
   ],
   "source": [
    "len(grad_dict['grad_0'][0])"
   ]
  },
  {
   "cell_type": "code",
   "execution_count": 38,
   "metadata": {},
   "outputs": [],
   "source": [
    "sf_dict = {}\n",
    "\n",
    "for neuron in range(1, 11):\n",
    "    Sort_SF(neuron)\n",
    "    Tuning_Curve_SF(neuron)"
   ]
  },
  {
   "cell_type": "markdown",
   "metadata": {},
   "source": [
    "### Raster Plot and Peri Stimulus Time Histogram\n",
    "\n",
    "https://neuraldatascience.io/6-single_unit/intro_spike_trains.html"
   ]
  },
  {
   "cell_type": "code",
   "execution_count": 68,
   "metadata": {},
   "outputs": [],
   "source": [
    "### Supply neuron nr and degree\n",
    "grad_dict = {}\n",
    "degree = 'grad_60'\n",
    "neuron_nr = 1\n",
    "Sort_Degrees(neuron_nr)"
   ]
  },
  {
   "cell_type": "code",
   "execution_count": 69,
   "metadata": {},
   "outputs": [],
   "source": [
    "# Change in spike train load that take all the ms and not cut off first 100ms\n",
    "\n",
    "light_onset_time = 100\n",
    "stimulus_duration = 1000\n",
    "spike_value = 1\n",
    "light_offset_time = light_onset_time + stimulus_duration\n",
    "\n",
    "#set orientation checked in raster and PSTH\n",
    "deg = grad_dict[degree]\n",
    "spike_array = np.array(deg)"
   ]
  },
  {
   "cell_type": "code",
   "execution_count": 70,
   "metadata": {},
   "outputs": [
    {
     "data": {
      "image/png": "[encoded data removed]",
      "text/plain": [
       "<Figure size 1000x500 with 2 Axes>"
      ]
     },
     "metadata": {},
     "output_type": "display_data"
    }
   ],
   "source": [
    "fig, axs = plt.subplots(2, 1, figsize=[10,5])\n",
    "\n",
    "########################################\n",
    "# draw raster into first subplot, axs[0]\n",
    "# add shading for stimulus duration)\n",
    "axs[0].axvspan(light_onset_time, light_offset_time, alpha=0.5, color='greenyellow')\n",
    "\n",
    "for trial in range(60):\n",
    "    spike_times = [i for i, x in enumerate(deg[trial]) if x == spike_value]\n",
    "    axs[0].vlines(spike_times, trial - 0.5, trial + 0.5)\n",
    "\n",
    "# Set x axis range so that time zero is more visible    \n",
    "axs[0].set_xlim([-1, 1100])\n",
    "\n",
    "# specify tick marks and label label y axis\n",
    "axs[0].set_yticks(np.arange(0, 61, 10))\n",
    "axs[0].set_ylabel('Trial Number')\n",
    "\n",
    "axs[0].set_title('Neuronal Spike Times') \n",
    "\n",
    "#######################################\n",
    "# draw PSTH into second subplot, axs[1]\n",
    "# add shading for stimulus duration\n",
    "axs[1].axvspan(light_onset_time, light_offset_time, alpha=0.5, color='greenyellow')\n",
    "\n",
    "# Draw the PSTH\n",
    "axs[1].bar(range(spike_array.shape[1]), \n",
    "           np.sum(spike_array, 0) #use mean for normalised version\n",
    "           )\n",
    "\n",
    "# Use same x axis limits as for raster plot\n",
    "axs[1].set_xlim([-1, 1100])\n",
    "\n",
    "# Add line showing chance probability of firing\n",
    "axs[1].axhline(y=0.5, xmin=0, xmax=20, linestyle='--', color='gray')\n",
    "\n",
    "# Make pretty\n",
    "axs[1].set_title('PSTH  ')\n",
    "axs[1].set_xlabel('Time (ms)')\n",
    "axs[1].set_ylabel('Num. spike occ.')\n",
    "\n",
    "\n",
    "### Overall figure stuff\n",
    "fig.suptitle(f'Neuron {neuron_nr}, orientation {degree[5:]} degrees')\n",
    "plt.tight_layout()\n",
    "plt.savefig(f\"Raster-PSTH Neuron {neuron_nr}, {degree}.jpg\")\n",
    "plt.show()"
   ]
  },
  {
   "cell_type": "code",
   "execution_count": null,
   "metadata": {},
   "outputs": [],
   "source": []
  }
 ],
 "metadata": {
  "kernelspec": {
   "display_name": "UtrechtUniversity",
   "language": "python",
   "name": "python3"
  },
  "language_info": {
   "codemirror_mode": {
    "name": "ipython",
    "version": 3
   },
   "file_extension": ".py",
   "mimetype": "text/x-python",
   "name": "python",
   "nbconvert_exporter": "python",
   "pygments_lexer": "ipython3",
   "version": "3.9.7"
  }
 },
 "nbformat": 4,
 "nbformat_minor": 2
}
